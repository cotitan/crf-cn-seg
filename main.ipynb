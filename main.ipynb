{
 "cells": [
  {
   "cell_type": "code",
   "execution_count": 1,
   "metadata": {
    "ExecuteTime": {
     "end_time": "2024-01-29T06:47:10.634231Z",
     "start_time": "2024-01-29T06:47:09.767091Z"
    }
   },
   "outputs": [],
   "source": [
    "import os\n",
    "import utils\n",
    "import json\n",
    "import torch\n",
    "from torch import nn\n"
   ]
  },
  {
   "cell_type": "code",
   "execution_count": 24,
   "metadata": {
    "ExecuteTime": {
     "end_time": "2024-01-29T07:07:24.781529Z",
     "start_time": "2024-01-29T07:07:24.771987Z"
    }
   },
   "outputs": [],
   "source": [
    "import models\n",
    "from imp import reload\n",
    "reload(models)\n",
    "reload(utils)\n",
    "\n",
    "from models import VanillaCRF, BiLSTMCRF, TransformerCRF\n"
   ]
  },
  {
   "cell_type": "code",
   "execution_count": 3,
   "metadata": {
    "ExecuteTime": {
     "end_time": "2024-01-29T06:47:11.513321Z",
     "start_time": "2024-01-29T06:47:11.501878Z"
    }
   },
   "outputs": [
    {
     "name": "stdout",
     "output_type": "stream",
     "text": [
      "{'<pad>': 0, 'B': 1, 'E': 2, 'S': 3, 'M': 4}\n"
     ]
    }
   ],
   "source": [
    "\n",
    "vocab_file = \"data/vocab.json\"\n",
    "train_file = \"data/train.bmes\"\n",
    "\n",
    "if not os.path.exists(vocab_file):\n",
    "    utils.build_vocab(train_file, vocab_file)\n",
    "vocab, tag2id = json.load(open(vocab_file))\n",
    "\n",
    "print(tag2id)\n",
    "# load model\n",
    "    # raise Exception\n",
    "\n",
    "    "
   ]
  },
  {
   "cell_type": "code",
   "execution_count": 31,
   "metadata": {
    "ExecuteTime": {
     "end_time": "2024-01-29T07:13:53.730079Z",
     "start_time": "2024-01-29T07:13:53.716967Z"
    }
   },
   "outputs": [],
   "source": [
    "batch_size = 64\n",
    "n_epochs = 1\n",
    "\n",
    "def train(model, train_file, vocab, tag2id, device, ckpts):\n",
    "    # load train data\n",
    "    X, Y = utils.load_data(train_file, vocab, tag2id)\n",
    "\n",
    "    optimizer = torch.optim.AdamW(model.parameters(), lr=0.01)\n",
    "    scheduler = torch.optim.lr_scheduler.StepLR(optimizer, step_size=1, gamma=0.3)\n",
    "\n",
    "    loader = utils.BatchManager(X, Y, batch_size)\n",
    "\n",
    "    for epoch in range(n_epochs):\n",
    "        for bid in range(loader.steps):\n",
    "            optimizer.zero_grad()\n",
    "            x, y, mask = loader.next_batch()\n",
    "            # loss = torch.zeros(1).to(device)\n",
    "            # for i in range(len(x)):\n",
    "            #     x[i] = torch.tensor(x[i]).to(device)\n",
    "            #     y[i] = torch.tensor(y[i]).to(device)\n",
    "            #     loss += model.neg_log_likelihood(x[i], y[i]).squeeze()\n",
    "            # loss.backward(retain_graph=True)\n",
    "\n",
    "            x, y, mask = [torch.LongTensor(k).to(device) for k in [x,y,mask]]\n",
    "            loss = model(x, y, mask.bool())\n",
    "            # loss = loss.mean()\n",
    "\n",
    "            loss.backward()\n",
    "            optimizer.step()\n",
    "            ckpts['trn_loss'].append(loss.item())\n",
    "\n",
    "            print(\"epoch %d/%d, step %d/%d, loss=%f\" % (epoch, n_epochs, bid, loader.steps,\n",
    "                   loss.detach().cpu().numpy().squeeze()))\n",
    "        scheduler.step()\n",
    "        torch.save(model.state_dict(), 'ckpts/params_%d.pkl' % epoch)\n",
    "        "
   ]
  },
  {
   "cell_type": "code",
   "execution_count": 6,
   "metadata": {
    "ExecuteTime": {
     "end_time": "2024-01-29T06:47:59.125137Z",
     "start_time": "2024-01-29T06:47:59.122095Z"
    }
   },
   "outputs": [],
   "source": [
    "from copy import deepcopy\n"
   ]
  },
  {
   "cell_type": "code",
   "execution_count": 32,
   "metadata": {
    "ExecuteTime": {
     "end_time": "2024-01-29T07:13:55.862758Z",
     "start_time": "2024-01-29T07:13:55.847392Z"
    },
    "scrolled": true
   },
   "outputs": [],
   "source": [
    "device = torch.device('cpu')\n",
    "# model = VanillaCRF(vocab, tag2id, device).to(device)\n",
    "model = BiLSTMCRF(vocab, tag2id, 32, 64, device).to(device)\n",
    "# model = TransformerCRF(vocab, tag2id, 16, 16, device).to(device)\n"
   ]
  },
  {
   "cell_type": "code",
   "execution_count": 36,
   "metadata": {
    "ExecuteTime": {
     "end_time": "2024-01-29T07:16:47.681968Z",
     "start_time": "2024-01-29T07:15:27.211794Z"
    },
    "scrolled": true
   },
   "outputs": [
    {
     "name": "stdout",
     "output_type": "stream",
     "text": [
      "Loading data...\n",
      "epoch 0/1, step 0/297, loss=0.229092\n",
      "epoch 0/1, step 1/297, loss=0.210469\n",
      "epoch 0/1, step 2/297, loss=0.214609\n",
      "epoch 0/1, step 3/297, loss=0.180904\n",
      "epoch 0/1, step 4/297, loss=0.185413\n",
      "epoch 0/1, step 5/297, loss=0.219084\n",
      "epoch 0/1, step 6/297, loss=0.200651\n",
      "epoch 0/1, step 7/297, loss=0.214149\n",
      "epoch 0/1, step 8/297, loss=0.214498\n",
      "epoch 0/1, step 9/297, loss=0.175496\n",
      "epoch 0/1, step 10/297, loss=0.198631\n",
      "epoch 0/1, step 11/297, loss=0.191747\n",
      "epoch 0/1, step 12/297, loss=0.231017\n",
      "epoch 0/1, step 13/297, loss=0.198887\n",
      "epoch 0/1, step 14/297, loss=0.204544\n",
      "epoch 0/1, step 15/297, loss=0.191051\n",
      "epoch 0/1, step 16/297, loss=0.195828\n",
      "epoch 0/1, step 17/297, loss=0.178273\n",
      "epoch 0/1, step 18/297, loss=0.189045\n",
      "epoch 0/1, step 19/297, loss=0.176779\n",
      "epoch 0/1, step 20/297, loss=0.176287\n",
      "epoch 0/1, step 21/297, loss=0.168231\n",
      "epoch 0/1, step 22/297, loss=0.179382\n",
      "epoch 0/1, step 23/297, loss=0.205493\n",
      "epoch 0/1, step 24/297, loss=0.205726\n",
      "epoch 0/1, step 25/297, loss=0.179696\n",
      "epoch 0/1, step 26/297, loss=0.150418\n",
      "epoch 0/1, step 27/297, loss=0.187415\n",
      "epoch 0/1, step 28/297, loss=0.193320\n",
      "epoch 0/1, step 29/297, loss=0.171695\n",
      "epoch 0/1, step 30/297, loss=0.179498\n",
      "epoch 0/1, step 31/297, loss=0.206802\n",
      "epoch 0/1, step 32/297, loss=0.179653\n",
      "epoch 0/1, step 33/297, loss=0.157497\n",
      "epoch 0/1, step 34/297, loss=0.171399\n",
      "epoch 0/1, step 35/297, loss=0.143008\n",
      "epoch 0/1, step 36/297, loss=0.155664\n",
      "epoch 0/1, step 37/297, loss=0.195246\n",
      "epoch 0/1, step 38/297, loss=0.189145\n",
      "epoch 0/1, step 39/297, loss=0.161011\n",
      "epoch 0/1, step 40/297, loss=0.158140\n",
      "epoch 0/1, step 41/297, loss=0.192053\n",
      "epoch 0/1, step 42/297, loss=0.183556\n",
      "epoch 0/1, step 43/297, loss=0.173403\n",
      "epoch 0/1, step 44/297, loss=0.148895\n",
      "epoch 0/1, step 45/297, loss=0.157327\n",
      "epoch 0/1, step 46/297, loss=0.177279\n",
      "epoch 0/1, step 47/297, loss=0.159730\n",
      "epoch 0/1, step 48/297, loss=0.174427\n",
      "epoch 0/1, step 49/297, loss=0.145764\n",
      "epoch 0/1, step 50/297, loss=0.152477\n",
      "epoch 0/1, step 51/297, loss=0.176833\n",
      "epoch 0/1, step 52/297, loss=0.185913\n",
      "epoch 0/1, step 53/297, loss=0.156531\n",
      "epoch 0/1, step 54/297, loss=0.149751\n",
      "epoch 0/1, step 55/297, loss=0.159727\n",
      "epoch 0/1, step 56/297, loss=0.177969\n",
      "epoch 0/1, step 57/297, loss=0.170808\n",
      "epoch 0/1, step 58/297, loss=0.148483\n",
      "epoch 0/1, step 59/297, loss=0.148528\n",
      "epoch 0/1, step 60/297, loss=0.150850\n",
      "epoch 0/1, step 61/297, loss=0.148152\n",
      "epoch 0/1, step 62/297, loss=0.149194\n",
      "epoch 0/1, step 63/297, loss=0.156689\n",
      "epoch 0/1, step 64/297, loss=0.149338\n",
      "epoch 0/1, step 65/297, loss=0.138536\n",
      "epoch 0/1, step 66/297, loss=0.155703\n",
      "epoch 0/1, step 67/297, loss=0.155967\n",
      "epoch 0/1, step 68/297, loss=0.165576\n",
      "epoch 0/1, step 69/297, loss=0.172084\n",
      "epoch 0/1, step 70/297, loss=0.152140\n",
      "epoch 0/1, step 71/297, loss=0.129074\n",
      "epoch 0/1, step 72/297, loss=0.139574\n",
      "epoch 0/1, step 73/297, loss=0.120372\n",
      "epoch 0/1, step 74/297, loss=0.124376\n",
      "epoch 0/1, step 75/297, loss=0.164533\n",
      "epoch 0/1, step 76/297, loss=0.136431\n",
      "epoch 0/1, step 77/297, loss=0.157019\n",
      "epoch 0/1, step 78/297, loss=0.145317\n",
      "epoch 0/1, step 79/297, loss=0.132111\n",
      "epoch 0/1, step 80/297, loss=0.145726\n",
      "epoch 0/1, step 81/297, loss=0.141686\n",
      "epoch 0/1, step 82/297, loss=0.159608\n",
      "epoch 0/1, step 83/297, loss=0.124715\n",
      "epoch 0/1, step 84/297, loss=0.144969\n",
      "epoch 0/1, step 85/297, loss=0.157294\n",
      "epoch 0/1, step 86/297, loss=0.127141\n",
      "epoch 0/1, step 87/297, loss=0.165949\n",
      "epoch 0/1, step 88/297, loss=0.136273\n",
      "epoch 0/1, step 89/297, loss=0.156603\n",
      "epoch 0/1, step 90/297, loss=0.137269\n",
      "epoch 0/1, step 91/297, loss=0.154072\n",
      "epoch 0/1, step 92/297, loss=0.146454\n",
      "epoch 0/1, step 93/297, loss=0.146342\n",
      "epoch 0/1, step 94/297, loss=0.161172\n",
      "epoch 0/1, step 95/297, loss=0.137968\n",
      "epoch 0/1, step 96/297, loss=0.139213\n",
      "epoch 0/1, step 97/297, loss=0.134932\n",
      "epoch 0/1, step 98/297, loss=0.148088\n",
      "epoch 0/1, step 99/297, loss=0.139609\n",
      "epoch 0/1, step 100/297, loss=0.131359\n",
      "epoch 0/1, step 101/297, loss=0.148567\n",
      "epoch 0/1, step 102/297, loss=0.144632\n",
      "epoch 0/1, step 103/297, loss=0.117934\n",
      "epoch 0/1, step 104/297, loss=0.142494\n",
      "epoch 0/1, step 105/297, loss=0.137502\n",
      "epoch 0/1, step 106/297, loss=0.148710\n",
      "epoch 0/1, step 107/297, loss=0.164981\n",
      "epoch 0/1, step 108/297, loss=0.140496\n",
      "epoch 0/1, step 109/297, loss=0.147666\n",
      "epoch 0/1, step 110/297, loss=0.153403\n",
      "epoch 0/1, step 111/297, loss=0.145516\n",
      "epoch 0/1, step 112/297, loss=0.155471\n",
      "epoch 0/1, step 113/297, loss=0.143335\n",
      "epoch 0/1, step 114/297, loss=0.108148\n",
      "epoch 0/1, step 115/297, loss=0.153028\n",
      "epoch 0/1, step 116/297, loss=0.132460\n",
      "epoch 0/1, step 117/297, loss=0.118712\n",
      "epoch 0/1, step 118/297, loss=0.153676\n",
      "epoch 0/1, step 119/297, loss=0.129676\n",
      "epoch 0/1, step 120/297, loss=0.152894\n",
      "epoch 0/1, step 121/297, loss=0.156092\n",
      "epoch 0/1, step 122/297, loss=0.153781\n",
      "epoch 0/1, step 123/297, loss=0.132957\n",
      "epoch 0/1, step 124/297, loss=0.115342\n",
      "epoch 0/1, step 125/297, loss=0.159826\n",
      "epoch 0/1, step 126/297, loss=0.125861\n",
      "epoch 0/1, step 127/297, loss=0.147177\n",
      "epoch 0/1, step 128/297, loss=0.138518\n",
      "epoch 0/1, step 129/297, loss=0.141656\n",
      "epoch 0/1, step 130/297, loss=0.126330\n",
      "epoch 0/1, step 131/297, loss=0.107406\n",
      "epoch 0/1, step 132/297, loss=0.126530\n",
      "epoch 0/1, step 133/297, loss=0.118895\n",
      "epoch 0/1, step 134/297, loss=0.114059\n",
      "epoch 0/1, step 135/297, loss=0.147344\n",
      "epoch 0/1, step 136/297, loss=0.118706\n",
      "epoch 0/1, step 137/297, loss=0.137041\n",
      "epoch 0/1, step 138/297, loss=0.145908\n",
      "epoch 0/1, step 139/297, loss=0.114212\n",
      "epoch 0/1, step 140/297, loss=0.123230\n",
      "epoch 0/1, step 141/297, loss=0.135074\n",
      "epoch 0/1, step 142/297, loss=0.139440\n",
      "epoch 0/1, step 143/297, loss=0.119200\n",
      "epoch 0/1, step 144/297, loss=0.153343\n",
      "epoch 0/1, step 145/297, loss=0.138089\n",
      "epoch 0/1, step 146/297, loss=0.133566\n",
      "epoch 0/1, step 147/297, loss=0.136709\n",
      "epoch 0/1, step 148/297, loss=0.118940\n",
      "epoch 0/1, step 149/297, loss=0.111929\n",
      "epoch 0/1, step 150/297, loss=0.106045\n",
      "epoch 0/1, step 151/297, loss=0.165562\n",
      "epoch 0/1, step 152/297, loss=0.108038\n",
      "epoch 0/1, step 153/297, loss=0.132283\n",
      "epoch 0/1, step 154/297, loss=0.127755\n",
      "epoch 0/1, step 155/297, loss=0.126979\n",
      "epoch 0/1, step 156/297, loss=0.124524\n",
      "epoch 0/1, step 157/297, loss=0.111149\n",
      "epoch 0/1, step 158/297, loss=0.134849\n",
      "epoch 0/1, step 159/297, loss=0.138699\n",
      "epoch 0/1, step 160/297, loss=0.138607\n",
      "epoch 0/1, step 161/297, loss=0.114761\n",
      "epoch 0/1, step 162/297, loss=0.127400\n",
      "epoch 0/1, step 163/297, loss=0.132497\n",
      "epoch 0/1, step 164/297, loss=0.158757\n",
      "epoch 0/1, step 165/297, loss=0.149862\n",
      "epoch 0/1, step 166/297, loss=0.124832\n",
      "epoch 0/1, step 167/297, loss=0.102119\n",
      "epoch 0/1, step 168/297, loss=0.113559\n",
      "epoch 0/1, step 169/297, loss=0.111859\n",
      "epoch 0/1, step 170/297, loss=0.119663\n",
      "epoch 0/1, step 171/297, loss=0.141655\n",
      "epoch 0/1, step 172/297, loss=0.131657\n",
      "epoch 0/1, step 173/297, loss=0.108789\n",
      "epoch 0/1, step 174/297, loss=0.131723\n",
      "epoch 0/1, step 175/297, loss=0.116017\n",
      "epoch 0/1, step 176/297, loss=0.119781\n",
      "epoch 0/1, step 177/297, loss=0.101359\n",
      "epoch 0/1, step 178/297, loss=0.118455\n",
      "epoch 0/1, step 179/297, loss=0.110939\n",
      "epoch 0/1, step 180/297, loss=0.136999\n",
      "epoch 0/1, step 181/297, loss=0.146642\n",
      "epoch 0/1, step 182/297, loss=0.133328\n",
      "epoch 0/1, step 183/297, loss=0.112231\n",
      "epoch 0/1, step 184/297, loss=0.120484\n",
      "epoch 0/1, step 185/297, loss=0.118497\n",
      "epoch 0/1, step 186/297, loss=0.135767\n",
      "epoch 0/1, step 187/297, loss=0.120135\n",
      "epoch 0/1, step 188/297, loss=0.095272\n",
      "epoch 0/1, step 189/297, loss=0.121529\n",
      "epoch 0/1, step 190/297, loss=0.102212\n",
      "epoch 0/1, step 191/297, loss=0.109829\n",
      "epoch 0/1, step 192/297, loss=0.129097\n",
      "epoch 0/1, step 193/297, loss=0.114795\n",
      "epoch 0/1, step 194/297, loss=0.132833\n",
      "epoch 0/1, step 195/297, loss=0.118894\n",
      "epoch 0/1, step 196/297, loss=0.105433\n",
      "epoch 0/1, step 197/297, loss=0.114306\n",
      "epoch 0/1, step 198/297, loss=0.121505\n",
      "epoch 0/1, step 199/297, loss=0.105447\n",
      "epoch 0/1, step 200/297, loss=0.124687\n",
      "epoch 0/1, step 201/297, loss=0.125951\n",
      "epoch 0/1, step 202/297, loss=0.134356\n",
      "epoch 0/1, step 203/297, loss=0.104970\n",
      "epoch 0/1, step 204/297, loss=0.106951\n",
      "epoch 0/1, step 205/297, loss=0.111198\n",
      "epoch 0/1, step 206/297, loss=0.108291\n",
      "epoch 0/1, step 207/297, loss=0.106817\n",
      "epoch 0/1, step 208/297, loss=0.131763\n",
      "epoch 0/1, step 209/297, loss=0.132236\n",
      "epoch 0/1, step 210/297, loss=0.114180\n",
      "epoch 0/1, step 211/297, loss=0.132690\n",
      "epoch 0/1, step 212/297, loss=0.122024\n"
     ]
    },
    {
     "name": "stdout",
     "output_type": "stream",
     "text": [
      "epoch 0/1, step 213/297, loss=0.152053\n",
      "epoch 0/1, step 214/297, loss=0.115382\n",
      "epoch 0/1, step 215/297, loss=0.101536\n",
      "epoch 0/1, step 216/297, loss=0.133953\n",
      "epoch 0/1, step 217/297, loss=0.104922\n",
      "epoch 0/1, step 218/297, loss=0.137354\n",
      "epoch 0/1, step 219/297, loss=0.143147\n",
      "epoch 0/1, step 220/297, loss=0.111578\n",
      "epoch 0/1, step 221/297, loss=0.114855\n",
      "epoch 0/1, step 222/297, loss=0.135195\n",
      "epoch 0/1, step 223/297, loss=0.141024\n",
      "epoch 0/1, step 224/297, loss=0.109083\n",
      "epoch 0/1, step 225/297, loss=0.108135\n",
      "epoch 0/1, step 226/297, loss=0.101131\n",
      "epoch 0/1, step 227/297, loss=0.104073\n",
      "epoch 0/1, step 228/297, loss=0.121609\n",
      "epoch 0/1, step 229/297, loss=0.128183\n",
      "epoch 0/1, step 230/297, loss=0.106215\n",
      "epoch 0/1, step 231/297, loss=0.137615\n",
      "epoch 0/1, step 232/297, loss=0.125085\n",
      "epoch 0/1, step 233/297, loss=0.110492\n",
      "epoch 0/1, step 234/297, loss=0.124642\n",
      "epoch 0/1, step 235/297, loss=0.120442\n",
      "epoch 0/1, step 236/297, loss=0.121807\n",
      "epoch 0/1, step 237/297, loss=0.118653\n",
      "epoch 0/1, step 238/297, loss=0.122916\n",
      "epoch 0/1, step 239/297, loss=0.111063\n",
      "epoch 0/1, step 240/297, loss=0.118207\n",
      "epoch 0/1, step 241/297, loss=0.129518\n",
      "epoch 0/1, step 242/297, loss=0.112251\n",
      "epoch 0/1, step 243/297, loss=0.107431\n",
      "epoch 0/1, step 244/297, loss=0.128050\n",
      "epoch 0/1, step 245/297, loss=0.100921\n",
      "epoch 0/1, step 246/297, loss=0.120832\n",
      "epoch 0/1, step 247/297, loss=0.110834\n",
      "epoch 0/1, step 248/297, loss=0.135018\n",
      "epoch 0/1, step 249/297, loss=0.101465\n",
      "epoch 0/1, step 250/297, loss=0.123481\n",
      "epoch 0/1, step 251/297, loss=0.116581\n",
      "epoch 0/1, step 252/297, loss=0.106419\n",
      "epoch 0/1, step 253/297, loss=0.106946\n",
      "epoch 0/1, step 254/297, loss=0.116549\n",
      "epoch 0/1, step 255/297, loss=0.087306\n",
      "epoch 0/1, step 256/297, loss=0.134465\n",
      "epoch 0/1, step 257/297, loss=0.106230\n",
      "epoch 0/1, step 258/297, loss=0.112383\n",
      "epoch 0/1, step 259/297, loss=0.129353\n",
      "epoch 0/1, step 260/297, loss=0.118460\n",
      "epoch 0/1, step 261/297, loss=0.117311\n",
      "epoch 0/1, step 262/297, loss=0.088523\n",
      "epoch 0/1, step 263/297, loss=0.119886\n",
      "epoch 0/1, step 264/297, loss=0.112429\n",
      "epoch 0/1, step 265/297, loss=0.103878\n",
      "epoch 0/1, step 266/297, loss=0.101980\n",
      "epoch 0/1, step 267/297, loss=0.115882\n",
      "epoch 0/1, step 268/297, loss=0.101539\n",
      "epoch 0/1, step 269/297, loss=0.098037\n",
      "epoch 0/1, step 270/297, loss=0.144523\n",
      "epoch 0/1, step 271/297, loss=0.109355\n",
      "epoch 0/1, step 272/297, loss=0.122038\n",
      "epoch 0/1, step 273/297, loss=0.105112\n",
      "epoch 0/1, step 274/297, loss=0.098710\n",
      "epoch 0/1, step 275/297, loss=0.119614\n",
      "epoch 0/1, step 276/297, loss=0.120468\n",
      "epoch 0/1, step 277/297, loss=0.118811\n",
      "epoch 0/1, step 278/297, loss=0.111916\n",
      "epoch 0/1, step 279/297, loss=0.104951\n",
      "epoch 0/1, step 280/297, loss=0.124974\n",
      "epoch 0/1, step 281/297, loss=0.107150\n",
      "epoch 0/1, step 282/297, loss=0.109781\n",
      "epoch 0/1, step 283/297, loss=0.099983\n",
      "epoch 0/1, step 284/297, loss=0.108805\n",
      "epoch 0/1, step 285/297, loss=0.092337\n",
      "epoch 0/1, step 286/297, loss=0.118521\n",
      "epoch 0/1, step 287/297, loss=0.113998\n",
      "epoch 0/1, step 288/297, loss=0.112305\n",
      "epoch 0/1, step 289/297, loss=0.109052\n",
      "epoch 0/1, step 290/297, loss=0.115387\n",
      "epoch 0/1, step 291/297, loss=0.114817\n",
      "epoch 0/1, step 292/297, loss=0.129696\n",
      "epoch 0/1, step 293/297, loss=0.111240\n",
      "epoch 0/1, step 294/297, loss=0.088216\n",
      "epoch 0/1, step 295/297, loss=0.122816\n",
      "epoch 0/1, step 296/297, loss=0.119620\n"
     ]
    }
   ],
   "source": [
    "ckpts = {'trn_loss': []}\n",
    "train(model, train_file, vocab, tag2id, device, ckpts)\n"
   ]
  },
  {
   "cell_type": "code",
   "execution_count": 37,
   "metadata": {
    "ExecuteTime": {
     "end_time": "2024-01-29T07:16:50.084664Z",
     "start_time": "2024-01-29T07:16:49.943842Z"
    }
   },
   "outputs": [
    {
     "data": {
      "text/plain": [
       "<AxesSubplot:>"
      ]
     },
     "execution_count": 37,
     "metadata": {},
     "output_type": "execute_result"
    },
    {
     "data": {
      "image/png": "[encoded data removed]",
      "text/plain": [
       "<Figure size 432x288 with 1 Axes>"
      ]
     },
     "metadata": {
      "needs_background": "light"
     },
     "output_type": "display_data"
    }
   ],
   "source": [
    "loss1 = [x for x in ckpts['trn_loss'] if x < 30]\n",
    "import pandas as pd\n",
    "import seaborn as sns\n",
    "loss1 = pd.Series(loss1).rolling(window=20).mean()\n",
    "sns.lineplot(x=range(len(loss1)), y=loss1)\n"
   ]
  },
  {
   "cell_type": "code",
   "execution_count": 40,
   "metadata": {
    "ExecuteTime": {
     "end_time": "2024-01-29T07:17:43.017001Z",
     "start_time": "2024-01-29T07:17:34.634902Z"
    },
    "scrolled": true
   },
   "outputs": [
    {
     "name": "stdout",
     "output_type": "stream",
     "text": [
      "{'<pad>': 0, 'B': 1, 'E': 2, 'S': 3, 'M': 4}\r\n",
      "word_embeds.weight torch.Size([4700, 32])\r\n",
      "encoder.weight_ih_l0 torch.Size([128, 32])\r\n",
      "encoder.weight_hh_l0 torch.Size([128, 32])\r\n",
      "encoder.bias_ih_l0 torch.Size([128])\r\n",
      "encoder.bias_hh_l0 torch.Size([128])\r\n",
      "encoder.weight_ih_l0_reverse torch.Size([128, 32])\r\n",
      "encoder.weight_hh_l0_reverse torch.Size([128, 32])\r\n",
      "encoder.bias_ih_l0_reverse torch.Size([128])\r\n",
      "encoder.bias_hh_l0_reverse torch.Size([128])\r\n",
      "hidden2tag.weight torch.Size([5, 64])\r\n",
      "hidden2tag.bias torch.Size([5])\r\n",
      "crf.transition torch.Size([5, 5])\r\n",
      "crf.start_trans torch.Size([5])\r\n",
      "crf.end_trans torch.Size([5])\r\n",
      "中山大学创办于1924年，是孙中山先生一手创立的\r\n",
      "中山 大学 创办 于 192 4年 ， 是 孙 中山 先生 一手 创立 的 \r\n"
     ]
    }
   ],
   "source": [
    "!python main.py --test --model_file ckpts/params_0.pkl\n"
   ]
  },
  {
   "cell_type": "code",
   "execution_count": 39,
   "metadata": {
    "ExecuteTime": {
     "end_time": "2024-01-29T07:17:04.502627Z",
     "start_time": "2024-01-29T07:17:01.266542Z"
    }
   },
   "outputs": [],
   "source": [
    "!./scripts/score data/pku_training_words.utf8 data/pku_test_gold.utf8 data/pku_test.out > score.utf8\n"
   ]
  },
  {
   "cell_type": "code",
   "execution_count": null,
   "metadata": {},
   "outputs": [],
   "source": [
    "## VanillaCRF: P=0.790, R=0.810\n",
    "\"\"\"\n",
    "## VanillaCRF\n",
    "=== SUMMARY:\n",
    "=== TOTAL INSERTIONS:\t4570\n",
    "=== TOTAL DELETIONS:\t5613\n",
    "=== TOTAL SUBSTITUTIONS:\t15641\n",
    "=== TOTAL NCHANGE:\t25824\n",
    "=== TOTAL TRUE WORD COUNT:\t104372\n",
    "=== TOTAL TEST WORD COUNT:\t103329\n",
    "=== TOTAL TRUE WORDS RECALL:\t0.796\n",
    "=== TOTAL TEST WORDS PRECISION:\t0.804\n",
    "=== F MEASURE:\t0.800\n",
    "=== OOV Rate:\t0.058\n",
    "=== OOV Recall Rate:\t0.516\n",
    "=== IV Recall Rate:\t0.813\n",
    "\n",
    "## BiLSTMCRF, epoch 0\n",
    "=== SUMMARY:\n",
    "=== TOTAL INSERTIONS:\t3693\n",
    "=== TOTAL DELETIONS:\t4422\n",
    "=== TOTAL SUBSTITUTIONS:\t11260\n",
    "=== TOTAL NCHANGE:\t19375\n",
    "=== TOTAL TRUE WORD COUNT:\t104372\n",
    "=== TOTAL TEST WORD COUNT:\t103643\n",
    "=== TOTAL TRUE WORDS RECALL:\t0.850\n",
    "=== TOTAL TEST WORDS PRECISION:\t0.856\n",
    "=== F MEASURE:\t0.853\n",
    "=== OOV Rate:\t0.058\n",
    "=== OOV Recall Rate:\t0.489\n",
    "=== IV Recall Rate:\t0.872\n",
    "\n",
    "\n",
    "## TransformerCRF\n",
    "\n",
    "=== SUMMARY:\n",
    "=== TOTAL INSERTIONS:\t4483\n",
    "=== TOTAL DELETIONS:\t6083\n",
    "=== TOTAL SUBSTITUTIONS:\t16349\n",
    "=== TOTAL NCHANGE:\t26915\n",
    "=== TOTAL TRUE WORD COUNT:\t104372\n",
    "=== TOTAL TEST WORD COUNT:\t102772\n",
    "=== TOTAL TRUE WORDS RECALL:\t0.785\n",
    "=== TOTAL TEST WORDS PRECISION:\t0.797\n",
    "=== F MEASURE:\t0.791\n",
    "=== OOV Rate:\t0.058\n",
    "=== OOV Recall Rate:\t0.460\n",
    "=== IV Recall Rate:\t0.805\n",
    "\"\"\"\n"
   ]
  }
 ],
 "metadata": {
  "kernelspec": {
   "display_name": "Python 3 (ipykernel)",
   "language": "python",
   "name": "python3"
  },
  "language_info": {
   "codemirror_mode": {
    "name": "ipython",
    "version": 3
   },
   "file_extension": ".py",
   "mimetype": "text/x-python",
   "name": "python",
   "nbconvert_exporter": "python",
   "pygments_lexer": "ipython3",
   "version": "3.9.12"
  },
  "toc": {
   "base_numbering": 1,
   "nav_menu": {},
   "number_sections": true,
   "sideBar": true,
   "skip_h1_title": false,
   "title_cell": "Table of Contents",
   "title_sidebar": "Contents",
   "toc_cell": false,
   "toc_position": {},
   "toc_section_display": true,
   "toc_window_display": false
  }
 },
 "nbformat": 4,
 "nbformat_minor": 2
}
